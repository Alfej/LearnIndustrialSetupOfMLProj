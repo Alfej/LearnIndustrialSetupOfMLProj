{
 "cells": [
  {
   "cell_type": "code",
   "execution_count": 70,
   "metadata": {},
   "outputs": [],
   "source": [
    "import pandas as pd\n",
    "import numpy as np\n",
    "import matplotlib.pyplot as plt\n",
    "%matplotlib inline\n",
    "import seaborn as sns\n",
    "import warnings\n",
    "from lightgbm import LGBMClassifier\n",
    "from xgboost import XGBClassifier\n",
    "warnings.filterwarnings('ignore')\n",
    "from sklearn.metrics import roc_auc_score, precision_score,recall_score,accuracy_score\n",
    "from sklearn.model_selection import train_test_split"
   ]
  },
  {
   "cell_type": "code",
   "execution_count": 71,
   "metadata": {},
   "outputs": [],
   "source": [
    "df = pd.read_csv('Data/train.csv') "
   ]
  },
  {
   "cell_type": "code",
   "execution_count": 72,
   "metadata": {},
   "outputs": [],
   "source": [
    "num_cols = [col for col in df.columns if df[col].dtype in ('int64','double','float')]\n",
    "cat_cols = [col for col in df.columns if df[col].dtype =='object']"
   ]
  },
  {
   "cell_type": "code",
   "execution_count": 73,
   "metadata": {},
   "outputs": [
    {
     "data": {
      "text/html": [
       "<div>\n",
       "<style scoped>\n",
       "    .dataframe tbody tr th:only-of-type {\n",
       "        vertical-align: middle;\n",
       "    }\n",
       "\n",
       "    .dataframe tbody tr th {\n",
       "        vertical-align: top;\n",
       "    }\n",
       "\n",
       "    .dataframe thead th {\n",
       "        text-align: right;\n",
       "    }\n",
       "</style>\n",
       "<table border=\"1\" class=\"dataframe\">\n",
       "  <thead>\n",
       "    <tr style=\"text-align: right;\">\n",
       "      <th></th>\n",
       "      <th>id</th>\n",
       "      <th>person_age</th>\n",
       "      <th>person_income</th>\n",
       "      <th>person_emp_length</th>\n",
       "      <th>loan_amnt</th>\n",
       "      <th>loan_int_rate</th>\n",
       "      <th>loan_percent_income</th>\n",
       "      <th>cb_person_cred_hist_length</th>\n",
       "      <th>loan_status</th>\n",
       "    </tr>\n",
       "  </thead>\n",
       "  <tbody>\n",
       "    <tr>\n",
       "      <th>count</th>\n",
       "      <td>58645.0</td>\n",
       "      <td>58645.00</td>\n",
       "      <td>58645.00</td>\n",
       "      <td>58645.00</td>\n",
       "      <td>58645.00</td>\n",
       "      <td>58645.00</td>\n",
       "      <td>58645.00</td>\n",
       "      <td>58645.00</td>\n",
       "      <td>58645.00</td>\n",
       "    </tr>\n",
       "    <tr>\n",
       "      <th>mean</th>\n",
       "      <td>29322.0</td>\n",
       "      <td>27.55</td>\n",
       "      <td>64046.17</td>\n",
       "      <td>4.70</td>\n",
       "      <td>9217.56</td>\n",
       "      <td>10.68</td>\n",
       "      <td>0.16</td>\n",
       "      <td>5.81</td>\n",
       "      <td>0.14</td>\n",
       "    </tr>\n",
       "    <tr>\n",
       "      <th>std</th>\n",
       "      <td>16929.5</td>\n",
       "      <td>6.03</td>\n",
       "      <td>37931.11</td>\n",
       "      <td>3.96</td>\n",
       "      <td>5563.81</td>\n",
       "      <td>3.03</td>\n",
       "      <td>0.09</td>\n",
       "      <td>4.03</td>\n",
       "      <td>0.35</td>\n",
       "    </tr>\n",
       "    <tr>\n",
       "      <th>min</th>\n",
       "      <td>0.0</td>\n",
       "      <td>20.00</td>\n",
       "      <td>4200.00</td>\n",
       "      <td>0.00</td>\n",
       "      <td>500.00</td>\n",
       "      <td>5.42</td>\n",
       "      <td>0.00</td>\n",
       "      <td>2.00</td>\n",
       "      <td>0.00</td>\n",
       "    </tr>\n",
       "    <tr>\n",
       "      <th>25%</th>\n",
       "      <td>14661.0</td>\n",
       "      <td>23.00</td>\n",
       "      <td>42000.00</td>\n",
       "      <td>2.00</td>\n",
       "      <td>5000.00</td>\n",
       "      <td>7.88</td>\n",
       "      <td>0.09</td>\n",
       "      <td>3.00</td>\n",
       "      <td>0.00</td>\n",
       "    </tr>\n",
       "    <tr>\n",
       "      <th>50%</th>\n",
       "      <td>29322.0</td>\n",
       "      <td>26.00</td>\n",
       "      <td>58000.00</td>\n",
       "      <td>4.00</td>\n",
       "      <td>8000.00</td>\n",
       "      <td>10.75</td>\n",
       "      <td>0.14</td>\n",
       "      <td>4.00</td>\n",
       "      <td>0.00</td>\n",
       "    </tr>\n",
       "    <tr>\n",
       "      <th>75%</th>\n",
       "      <td>43983.0</td>\n",
       "      <td>30.00</td>\n",
       "      <td>75600.00</td>\n",
       "      <td>7.00</td>\n",
       "      <td>12000.00</td>\n",
       "      <td>12.99</td>\n",
       "      <td>0.21</td>\n",
       "      <td>8.00</td>\n",
       "      <td>0.00</td>\n",
       "    </tr>\n",
       "    <tr>\n",
       "      <th>max</th>\n",
       "      <td>58644.0</td>\n",
       "      <td>123.00</td>\n",
       "      <td>1900000.00</td>\n",
       "      <td>123.00</td>\n",
       "      <td>35000.00</td>\n",
       "      <td>23.22</td>\n",
       "      <td>0.83</td>\n",
       "      <td>30.00</td>\n",
       "      <td>1.00</td>\n",
       "    </tr>\n",
       "  </tbody>\n",
       "</table>\n",
       "</div>"
      ],
      "text/plain": [
       "            id  person_age  person_income  person_emp_length  loan_amnt  \\\n",
       "count  58645.0    58645.00       58645.00           58645.00   58645.00   \n",
       "mean   29322.0       27.55       64046.17               4.70    9217.56   \n",
       "std    16929.5        6.03       37931.11               3.96    5563.81   \n",
       "min        0.0       20.00        4200.00               0.00     500.00   \n",
       "25%    14661.0       23.00       42000.00               2.00    5000.00   \n",
       "50%    29322.0       26.00       58000.00               4.00    8000.00   \n",
       "75%    43983.0       30.00       75600.00               7.00   12000.00   \n",
       "max    58644.0      123.00     1900000.00             123.00   35000.00   \n",
       "\n",
       "       loan_int_rate  loan_percent_income  cb_person_cred_hist_length  \\\n",
       "count       58645.00             58645.00                    58645.00   \n",
       "mean           10.68                 0.16                        5.81   \n",
       "std             3.03                 0.09                        4.03   \n",
       "min             5.42                 0.00                        2.00   \n",
       "25%             7.88                 0.09                        3.00   \n",
       "50%            10.75                 0.14                        4.00   \n",
       "75%            12.99                 0.21                        8.00   \n",
       "max            23.22                 0.83                       30.00   \n",
       "\n",
       "       loan_status  \n",
       "count     58645.00  \n",
       "mean          0.14  \n",
       "std           0.35  \n",
       "min           0.00  \n",
       "25%           0.00  \n",
       "50%           0.00  \n",
       "75%           0.00  \n",
       "max           1.00  "
      ]
     },
     "execution_count": 73,
     "metadata": {},
     "output_type": "execute_result"
    }
   ],
   "source": [
    "df.describe().round(2)"
   ]
  },
  {
   "cell_type": "code",
   "execution_count": 74,
   "metadata": {},
   "outputs": [
    {
     "name": "stdout",
     "output_type": "stream",
     "text": [
      "Applying log to person_age\n",
      "Applying log to person_income\n",
      "Applying log to person_emp_length\n",
      "Applying log to cb_person_cred_hist_length\n"
     ]
    }
   ],
   "source": [
    "for col in ('person_age','person_income','person_emp_length','cb_person_cred_hist_length'):\n",
    "    print(\"Applying log to\",col)\n",
    "    df[col] = df[col].replace(0,1)\n",
    "    df[col] = np.log10(df[col])\n",
    "    df[col] = df[col].replace(np.nan,0)\n"
   ]
  },
  {
   "cell_type": "code",
   "execution_count": 75,
   "metadata": {},
   "outputs": [
    {
     "data": {
      "text/html": [
       "<div>\n",
       "<style scoped>\n",
       "    .dataframe tbody tr th:only-of-type {\n",
       "        vertical-align: middle;\n",
       "    }\n",
       "\n",
       "    .dataframe tbody tr th {\n",
       "        vertical-align: top;\n",
       "    }\n",
       "\n",
       "    .dataframe thead th {\n",
       "        text-align: right;\n",
       "    }\n",
       "</style>\n",
       "<table border=\"1\" class=\"dataframe\">\n",
       "  <thead>\n",
       "    <tr style=\"text-align: right;\">\n",
       "      <th></th>\n",
       "      <th>id</th>\n",
       "      <th>person_age</th>\n",
       "      <th>person_income</th>\n",
       "      <th>person_emp_length</th>\n",
       "      <th>loan_amnt</th>\n",
       "      <th>loan_int_rate</th>\n",
       "      <th>loan_percent_income</th>\n",
       "      <th>cb_person_cred_hist_length</th>\n",
       "      <th>loan_status</th>\n",
       "    </tr>\n",
       "  </thead>\n",
       "  <tbody>\n",
       "    <tr>\n",
       "      <th>count</th>\n",
       "      <td>58645.0</td>\n",
       "      <td>58645.00</td>\n",
       "      <td>58645.00</td>\n",
       "      <td>58645.00</td>\n",
       "      <td>58645.00</td>\n",
       "      <td>58645.00</td>\n",
       "      <td>58645.00</td>\n",
       "      <td>58645.00</td>\n",
       "      <td>58645.00</td>\n",
       "    </tr>\n",
       "    <tr>\n",
       "      <th>mean</th>\n",
       "      <td>29322.0</td>\n",
       "      <td>1.43</td>\n",
       "      <td>4.76</td>\n",
       "      <td>0.54</td>\n",
       "      <td>9217.56</td>\n",
       "      <td>10.68</td>\n",
       "      <td>0.16</td>\n",
       "      <td>0.67</td>\n",
       "      <td>0.14</td>\n",
       "    </tr>\n",
       "    <tr>\n",
       "      <th>std</th>\n",
       "      <td>16929.5</td>\n",
       "      <td>0.08</td>\n",
       "      <td>0.20</td>\n",
       "      <td>0.37</td>\n",
       "      <td>5563.81</td>\n",
       "      <td>3.03</td>\n",
       "      <td>0.09</td>\n",
       "      <td>0.27</td>\n",
       "      <td>0.35</td>\n",
       "    </tr>\n",
       "    <tr>\n",
       "      <th>min</th>\n",
       "      <td>0.0</td>\n",
       "      <td>1.30</td>\n",
       "      <td>3.62</td>\n",
       "      <td>0.00</td>\n",
       "      <td>500.00</td>\n",
       "      <td>5.42</td>\n",
       "      <td>0.00</td>\n",
       "      <td>0.30</td>\n",
       "      <td>0.00</td>\n",
       "    </tr>\n",
       "    <tr>\n",
       "      <th>25%</th>\n",
       "      <td>14661.0</td>\n",
       "      <td>1.36</td>\n",
       "      <td>4.62</td>\n",
       "      <td>0.30</td>\n",
       "      <td>5000.00</td>\n",
       "      <td>7.88</td>\n",
       "      <td>0.09</td>\n",
       "      <td>0.48</td>\n",
       "      <td>0.00</td>\n",
       "    </tr>\n",
       "    <tr>\n",
       "      <th>50%</th>\n",
       "      <td>29322.0</td>\n",
       "      <td>1.41</td>\n",
       "      <td>4.76</td>\n",
       "      <td>0.60</td>\n",
       "      <td>8000.00</td>\n",
       "      <td>10.75</td>\n",
       "      <td>0.14</td>\n",
       "      <td>0.60</td>\n",
       "      <td>0.00</td>\n",
       "    </tr>\n",
       "    <tr>\n",
       "      <th>75%</th>\n",
       "      <td>43983.0</td>\n",
       "      <td>1.48</td>\n",
       "      <td>4.88</td>\n",
       "      <td>0.85</td>\n",
       "      <td>12000.00</td>\n",
       "      <td>12.99</td>\n",
       "      <td>0.21</td>\n",
       "      <td>0.90</td>\n",
       "      <td>0.00</td>\n",
       "    </tr>\n",
       "    <tr>\n",
       "      <th>max</th>\n",
       "      <td>58644.0</td>\n",
       "      <td>2.09</td>\n",
       "      <td>6.28</td>\n",
       "      <td>2.09</td>\n",
       "      <td>35000.00</td>\n",
       "      <td>23.22</td>\n",
       "      <td>0.83</td>\n",
       "      <td>1.48</td>\n",
       "      <td>1.00</td>\n",
       "    </tr>\n",
       "  </tbody>\n",
       "</table>\n",
       "</div>"
      ],
      "text/plain": [
       "            id  person_age  person_income  person_emp_length  loan_amnt  \\\n",
       "count  58645.0    58645.00       58645.00           58645.00   58645.00   \n",
       "mean   29322.0        1.43           4.76               0.54    9217.56   \n",
       "std    16929.5        0.08           0.20               0.37    5563.81   \n",
       "min        0.0        1.30           3.62               0.00     500.00   \n",
       "25%    14661.0        1.36           4.62               0.30    5000.00   \n",
       "50%    29322.0        1.41           4.76               0.60    8000.00   \n",
       "75%    43983.0        1.48           4.88               0.85   12000.00   \n",
       "max    58644.0        2.09           6.28               2.09   35000.00   \n",
       "\n",
       "       loan_int_rate  loan_percent_income  cb_person_cred_hist_length  \\\n",
       "count       58645.00             58645.00                    58645.00   \n",
       "mean           10.68                 0.16                        0.67   \n",
       "std             3.03                 0.09                        0.27   \n",
       "min             5.42                 0.00                        0.30   \n",
       "25%             7.88                 0.09                        0.48   \n",
       "50%            10.75                 0.14                        0.60   \n",
       "75%            12.99                 0.21                        0.90   \n",
       "max            23.22                 0.83                        1.48   \n",
       "\n",
       "       loan_status  \n",
       "count     58645.00  \n",
       "mean          0.14  \n",
       "std           0.35  \n",
       "min           0.00  \n",
       "25%           0.00  \n",
       "50%           0.00  \n",
       "75%           0.00  \n",
       "max           1.00  "
      ]
     },
     "execution_count": 75,
     "metadata": {},
     "output_type": "execute_result"
    }
   ],
   "source": [
    "df.describe().round(2)"
   ]
  },
  {
   "cell_type": "code",
   "execution_count": 76,
   "metadata": {},
   "outputs": [],
   "source": [
    "for col in cat_cols:\n",
    "    df[col] = df[col].astype('category')"
   ]
  },
  {
   "cell_type": "code",
   "execution_count": 77,
   "metadata": {},
   "outputs": [],
   "source": [
    "X = df.drop(columns=['id','loan_status'],axis=1)\n",
    "y = df['loan_status']"
   ]
  },
  {
   "cell_type": "code",
   "execution_count": 78,
   "metadata": {},
   "outputs": [],
   "source": [
    "X_train, X_test, y_train, y_test = train_test_split(X,y,test_size=0.3,random_state=42)"
   ]
  },
  {
   "cell_type": "code",
   "execution_count": 79,
   "metadata": {},
   "outputs": [
    {
     "name": "stdout",
     "output_type": "stream",
     "text": [
      "X_train shape:  (41051, 11)\n",
      "y_train shape:  (41051,)\n",
      "X_test shape:  (17594, 11)\n",
      "y_test shape:  (17594,)\n"
     ]
    }
   ],
   "source": [
    "print('X_train shape: ',X_train.shape)\n",
    "print('y_train shape: ',y_train.shape)\n",
    "print('X_test shape: ',X_test.shape)\n",
    "print('y_test shape: ',y_test.shape)"
   ]
  },
  {
   "cell_type": "code",
   "execution_count": 80,
   "metadata": {},
   "outputs": [],
   "source": [
    "def modelevaluation(y_true,y_pred):\n",
    "    roc_auc = roc_auc_score(y_true,y_pred)\n",
    "    accuracy= accuracy_score(y_true,y_pred)\n",
    "    precision = precision_score(y_true,y_pred)\n",
    "    recall = recall_score(y_true,y_pred)\n",
    "    return roc_auc,accuracy,precision,recall\n",
    "\n",
    "def print_evaluation(y_true,y_pred):\n",
    "    roc_auc,accuracy,precision,recall = modelevaluation(y_true,y_pred)\n",
    "    print('Roc_Auc: ',roc_auc)\n",
    "    print('accuracy: ',accuracy)\n",
    "    print('precision: ',precision)\n",
    "    print('recall: ',recall)"
   ]
  },
  {
   "cell_type": "code",
   "execution_count": 81,
   "metadata": {},
   "outputs": [],
   "source": [
    "model = LGBMClassifier()"
   ]
  },
  {
   "cell_type": "code",
   "execution_count": 84,
   "metadata": {},
   "outputs": [
    {
     "ename": "TypeError",
     "evalue": "fit() got an unexpected keyword argument 'max_cat_threshold'",
     "output_type": "error",
     "traceback": [
      "\u001b[1;31m---------------------------------------------------------------------------\u001b[0m",
      "\u001b[1;31mTypeError\u001b[0m                                 Traceback (most recent call last)",
      "Cell \u001b[1;32mIn[85], line 1\u001b[0m\n\u001b[1;32m----> 1\u001b[0m \u001b[43mmodel\u001b[49m\u001b[38;5;241;43m.\u001b[39;49m\u001b[43mfit\u001b[49m\u001b[43m(\u001b[49m\u001b[43mX_train\u001b[49m\u001b[43m,\u001b[49m\u001b[43my_train\u001b[49m\u001b[43m,\u001b[49m\u001b[43mmax_cat_threshold\u001b[49m\u001b[38;5;241;43m=\u001b[39;49m\u001b[38;5;241;43m4\u001b[39;49m\u001b[43m)\u001b[49m\n",
      "File \u001b[1;32mc:\\Users\\Alfej\\OneDrive\\Desktop\\LearnIndustrialSetupOfMLProj\\venv\\lib\\site-packages\\xgboost\\core.py:726\u001b[0m, in \u001b[0;36mrequire_keyword_args.<locals>.throw_if.<locals>.inner_f\u001b[1;34m(*args, **kwargs)\u001b[0m\n\u001b[0;32m    724\u001b[0m \u001b[38;5;28;01mfor\u001b[39;00m k, arg \u001b[38;5;129;01min\u001b[39;00m \u001b[38;5;28mzip\u001b[39m(sig\u001b[38;5;241m.\u001b[39mparameters, args):\n\u001b[0;32m    725\u001b[0m     kwargs[k] \u001b[38;5;241m=\u001b[39m arg\n\u001b[1;32m--> 726\u001b[0m \u001b[38;5;28;01mreturn\u001b[39;00m \u001b[43mfunc\u001b[49m\u001b[43m(\u001b[49m\u001b[38;5;241;43m*\u001b[39;49m\u001b[38;5;241;43m*\u001b[39;49m\u001b[43mkwargs\u001b[49m\u001b[43m)\u001b[49m\n",
      "\u001b[1;31mTypeError\u001b[0m: fit() got an unexpected keyword argument 'max_cat_threshold'"
     ]
    }
   ],
   "source": [
    "model.fit(X_train,y_train,categorical_feature=cat_cols)"
   ]
  },
  {
   "cell_type": "code",
   "execution_count": 68,
   "metadata": {},
   "outputs": [],
   "source": [
    "y_pred = model.predict_proba(X_test)\n",
    "y_img = model.predict(X_test)\n",
    "y_p = np.argmax(y_pred, axis=1)"
   ]
  },
  {
   "cell_type": "code",
   "execution_count": 69,
   "metadata": {},
   "outputs": [
    {
     "name": "stdout",
     "output_type": "stream",
     "text": [
      "Roc_Auc:  0.8592135623164125\n",
      "accuracy:  0.9526543139706718\n",
      "precision:  0.916030534351145\n",
      "recall:  0.7293354943273906\n"
     ]
    }
   ],
   "source": [
    "print_evaluation(y_test,y_img)"
   ]
  },
  {
   "cell_type": "code",
   "execution_count": 30,
   "metadata": {},
   "outputs": [
    {
     "data": {
      "text/plain": [
       "(17594, 2)"
      ]
     },
     "execution_count": 30,
     "metadata": {},
     "output_type": "execute_result"
    }
   ],
   "source": [
    "y_pred.shape"
   ]
  },
  {
   "cell_type": "code",
   "execution_count": 41,
   "metadata": {},
   "outputs": [],
   "source": [
    "test_df = pd.read_csv('Data/test.csv') "
   ]
  },
  {
   "cell_type": "code",
   "execution_count": 42,
   "metadata": {},
   "outputs": [],
   "source": [
    "for col in cat_cols:\n",
    "    test_df[col] = test_df[col].astype('category')"
   ]
  },
  {
   "cell_type": "code",
   "execution_count": 43,
   "metadata": {},
   "outputs": [],
   "source": [
    "y_pred = model.predict_proba(test_df.drop(columns=['id'],axis=1))"
   ]
  },
  {
   "cell_type": "code",
   "execution_count": 45,
   "metadata": {},
   "outputs": [],
   "source": [
    "y_pred_class_1 = y_pred[:, 1]"
   ]
  },
  {
   "cell_type": "code",
   "execution_count": 46,
   "metadata": {},
   "outputs": [],
   "source": [
    "final_df = pd.DataFrame({\n",
    "    'id': test_df['id'],\n",
    "    'loan_status': y_pred_class_1\n",
    "})"
   ]
  },
  {
   "cell_type": "code",
   "execution_count": 47,
   "metadata": {},
   "outputs": [
    {
     "name": "stdout",
     "output_type": "stream",
     "text": [
      "          id  loan_status\n",
      "0      58645     0.975091\n",
      "1      58646     0.016753\n",
      "2      58647     0.578039\n",
      "3      58648     0.011775\n",
      "4      58649     0.057694\n",
      "...      ...          ...\n",
      "39093  97738     0.070686\n",
      "39094  97739     0.008185\n",
      "39095  97740     0.010476\n",
      "39096  97741     0.200295\n",
      "39097  97742     0.918237\n",
      "\n",
      "[39098 rows x 2 columns]\n"
     ]
    }
   ],
   "source": [
    "print(final_df)"
   ]
  },
  {
   "cell_type": "code",
   "execution_count": 48,
   "metadata": {},
   "outputs": [],
   "source": [
    "final_df.to_csv('Data/final_predictions.csv', index=False)"
   ]
  },
  {
   "cell_type": "code",
   "execution_count": null,
   "metadata": {},
   "outputs": [],
   "source": []
  }
 ],
 "metadata": {
  "kernelspec": {
   "display_name": "Python 3",
   "language": "python",
   "name": "python3"
  },
  "language_info": {
   "codemirror_mode": {
    "name": "ipython",
    "version": 3
   },
   "file_extension": ".py",
   "mimetype": "text/x-python",
   "name": "python",
   "nbconvert_exporter": "python",
   "pygments_lexer": "ipython3",
   "version": "3.8.20"
  }
 },
 "nbformat": 4,
 "nbformat_minor": 2
}
